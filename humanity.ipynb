{
 "cells": [
  {
   "cell_type": "code",
   "execution_count": 2794,
   "id": "02260db6",
   "metadata": {},
   "outputs": [],
   "source": [
    "import math\n",
    "import random\n",
    "import numpy as np\n",
    "import pathlib as pl\n",
    "import pandas as pd\n",
    "import matplotlib.pyplot as plt\n",
    "import seaborn as sns\n",
    "\n",
    "from scipy import stats"
   ]
  },
  {
   "cell_type": "markdown",
   "id": "689fb939",
   "metadata": {},
   "source": [
    "## Dataset control unit"
   ]
  },
  {
   "cell_type": "code",
   "execution_count": 2795,
   "id": "20872623",
   "metadata": {},
   "outputs": [],
   "source": [
    "DATASETS_DIR = \"datasets\"\n",
    "\n",
    "TRAIN_PATH = pl.Path(f\"{DATASETS_DIR}/train.csv\");\n",
    "TEST_PATH = pl.Path(f\"{DATASETS_DIR}/test_features.csv\");\n",
    "SUBMISSION_PATH = pl.Path(f\"{DATASETS_DIR}/sample_submission.csv\");"
   ]
  },
  {
   "cell_type": "markdown",
   "id": "14d26d3b",
   "metadata": {},
   "source": [
    "## Analysis control unit"
   ]
  },
  {
   "cell_type": "code",
   "execution_count": 2796,
   "id": "b7499e85",
   "metadata": {},
   "outputs": [],
   "source": [
    "USE_PAIRPLOTS = False\n",
    "USE_BARPLOTS = True"
   ]
  },
  {
   "cell_type": "code",
   "execution_count": 2797,
   "id": "d1ab86d1",
   "metadata": {},
   "outputs": [],
   "source": [
    "df = pd.read_csv(TRAIN_PATH)"
   ]
  },
  {
   "cell_type": "markdown",
   "id": "3a426aec",
   "metadata": {},
   "source": [
    "### Analysing data from the available dataset"
   ]
  },
  {
   "cell_type": "code",
   "execution_count": 2798,
   "id": "7ffbf86b",
   "metadata": {},
   "outputs": [
    {
     "data": {
      "text/html": [
       "<div>\n",
       "<style scoped>\n",
       "    .dataframe tbody tr th:only-of-type {\n",
       "        vertical-align: middle;\n",
       "    }\n",
       "\n",
       "    .dataframe tbody tr th {\n",
       "        vertical-align: top;\n",
       "    }\n",
       "\n",
       "    .dataframe thead th {\n",
       "        text-align: right;\n",
       "    }\n",
       "</style>\n",
       "<table border=\"1\" class=\"dataframe\">\n",
       "  <thead>\n",
       "    <tr style=\"text-align: right;\">\n",
       "      <th></th>\n",
       "      <th>Sex</th>\n",
       "      <th>Length</th>\n",
       "      <th>Diameter</th>\n",
       "      <th>Height</th>\n",
       "      <th>weight_1</th>\n",
       "      <th>weight_2</th>\n",
       "      <th>weight_3</th>\n",
       "      <th>weight_4</th>\n",
       "      <th>target</th>\n",
       "    </tr>\n",
       "  </thead>\n",
       "  <tbody>\n",
       "    <tr>\n",
       "      <th>0</th>\n",
       "      <td>M</td>\n",
       "      <td>0.725</td>\n",
       "      <td>0.550</td>\n",
       "      <td>0.200</td>\n",
       "      <td>1.5100</td>\n",
       "      <td>0.8735</td>\n",
       "      <td>0.4265</td>\n",
       "      <td>0.5085</td>\n",
       "      <td>9</td>\n",
       "    </tr>\n",
       "    <tr>\n",
       "      <th>1</th>\n",
       "      <td>F</td>\n",
       "      <td>0.415</td>\n",
       "      <td>0.340</td>\n",
       "      <td>0.130</td>\n",
       "      <td>0.3675</td>\n",
       "      <td>0.1460</td>\n",
       "      <td>0.0885</td>\n",
       "      <td>0.1200</td>\n",
       "      <td>10</td>\n",
       "    </tr>\n",
       "    <tr>\n",
       "      <th>2</th>\n",
       "      <td>M</td>\n",
       "      <td>0.705</td>\n",
       "      <td>0.555</td>\n",
       "      <td>0.215</td>\n",
       "      <td>2.1410</td>\n",
       "      <td>1.0465</td>\n",
       "      <td>0.3830</td>\n",
       "      <td>0.5280</td>\n",
       "      <td>11</td>\n",
       "    </tr>\n",
       "    <tr>\n",
       "      <th>3</th>\n",
       "      <td>I</td>\n",
       "      <td>0.375</td>\n",
       "      <td>0.290</td>\n",
       "      <td>0.095</td>\n",
       "      <td>0.2875</td>\n",
       "      <td>0.1230</td>\n",
       "      <td>0.0605</td>\n",
       "      <td>0.0800</td>\n",
       "      <td>6</td>\n",
       "    </tr>\n",
       "    <tr>\n",
       "      <th>4</th>\n",
       "      <td>F</td>\n",
       "      <td>0.680</td>\n",
       "      <td>0.500</td>\n",
       "      <td>0.185</td>\n",
       "      <td>1.7410</td>\n",
       "      <td>0.7665</td>\n",
       "      <td>0.3255</td>\n",
       "      <td>0.4685</td>\n",
       "      <td>12</td>\n",
       "    </tr>\n",
       "    <tr>\n",
       "      <th>...</th>\n",
       "      <td>...</td>\n",
       "      <td>...</td>\n",
       "      <td>...</td>\n",
       "      <td>...</td>\n",
       "      <td>...</td>\n",
       "      <td>...</td>\n",
       "      <td>...</td>\n",
       "      <td>...</td>\n",
       "      <td>...</td>\n",
       "    </tr>\n",
       "    <tr>\n",
       "      <th>3131</th>\n",
       "      <td>F</td>\n",
       "      <td>0.575</td>\n",
       "      <td>0.480</td>\n",
       "      <td>0.165</td>\n",
       "      <td>1.0780</td>\n",
       "      <td>0.5110</td>\n",
       "      <td>0.2095</td>\n",
       "      <td>0.3060</td>\n",
       "      <td>9</td>\n",
       "    </tr>\n",
       "    <tr>\n",
       "      <th>3132</th>\n",
       "      <td>M</td>\n",
       "      <td>0.585</td>\n",
       "      <td>0.455</td>\n",
       "      <td>0.125</td>\n",
       "      <td>1.0270</td>\n",
       "      <td>0.3910</td>\n",
       "      <td>0.2120</td>\n",
       "      <td>0.2500</td>\n",
       "      <td>17</td>\n",
       "    </tr>\n",
       "    <tr>\n",
       "      <th>3133</th>\n",
       "      <td>I</td>\n",
       "      <td>0.395</td>\n",
       "      <td>0.270</td>\n",
       "      <td>0.100</td>\n",
       "      <td>0.2985</td>\n",
       "      <td>0.1445</td>\n",
       "      <td>0.0610</td>\n",
       "      <td>0.0820</td>\n",
       "      <td>5</td>\n",
       "    </tr>\n",
       "    <tr>\n",
       "      <th>3134</th>\n",
       "      <td>M</td>\n",
       "      <td>0.415</td>\n",
       "      <td>0.305</td>\n",
       "      <td>0.100</td>\n",
       "      <td>0.3250</td>\n",
       "      <td>0.1560</td>\n",
       "      <td>0.0505</td>\n",
       "      <td>0.0910</td>\n",
       "      <td>6</td>\n",
       "    </tr>\n",
       "    <tr>\n",
       "      <th>3135</th>\n",
       "      <td>M</td>\n",
       "      <td>0.635</td>\n",
       "      <td>0.520</td>\n",
       "      <td>0.175</td>\n",
       "      <td>1.2920</td>\n",
       "      <td>0.6000</td>\n",
       "      <td>0.2690</td>\n",
       "      <td>0.3670</td>\n",
       "      <td>11</td>\n",
       "    </tr>\n",
       "  </tbody>\n",
       "</table>\n",
       "<p>3136 rows × 9 columns</p>\n",
       "</div>"
      ],
      "text/plain": [
       "     Sex  Length  Diameter  Height  weight_1  weight_2  weight_3  weight_4  \\\n",
       "0      M   0.725     0.550   0.200    1.5100    0.8735    0.4265    0.5085   \n",
       "1      F   0.415     0.340   0.130    0.3675    0.1460    0.0885    0.1200   \n",
       "2      M   0.705     0.555   0.215    2.1410    1.0465    0.3830    0.5280   \n",
       "3      I   0.375     0.290   0.095    0.2875    0.1230    0.0605    0.0800   \n",
       "4      F   0.680     0.500   0.185    1.7410    0.7665    0.3255    0.4685   \n",
       "...   ..     ...       ...     ...       ...       ...       ...       ...   \n",
       "3131   F   0.575     0.480   0.165    1.0780    0.5110    0.2095    0.3060   \n",
       "3132   M   0.585     0.455   0.125    1.0270    0.3910    0.2120    0.2500   \n",
       "3133   I   0.395     0.270   0.100    0.2985    0.1445    0.0610    0.0820   \n",
       "3134   M   0.415     0.305   0.100    0.3250    0.1560    0.0505    0.0910   \n",
       "3135   M   0.635     0.520   0.175    1.2920    0.6000    0.2690    0.3670   \n",
       "\n",
       "      target  \n",
       "0          9  \n",
       "1         10  \n",
       "2         11  \n",
       "3          6  \n",
       "4         12  \n",
       "...      ...  \n",
       "3131       9  \n",
       "3132      17  \n",
       "3133       5  \n",
       "3134       6  \n",
       "3135      11  \n",
       "\n",
       "[3136 rows x 9 columns]"
      ]
     },
     "execution_count": 2798,
     "metadata": {},
     "output_type": "execute_result"
    }
   ],
   "source": [
    "df"
   ]
  },
  {
   "cell_type": "code",
   "execution_count": 2799,
   "id": "c6327a92",
   "metadata": {},
   "outputs": [
    {
     "data": {
      "text/html": [
       "<div>\n",
       "<style scoped>\n",
       "    .dataframe tbody tr th:only-of-type {\n",
       "        vertical-align: middle;\n",
       "    }\n",
       "\n",
       "    .dataframe tbody tr th {\n",
       "        vertical-align: top;\n",
       "    }\n",
       "\n",
       "    .dataframe thead th {\n",
       "        text-align: right;\n",
       "    }\n",
       "</style>\n",
       "<table border=\"1\" class=\"dataframe\">\n",
       "  <thead>\n",
       "    <tr style=\"text-align: right;\">\n",
       "      <th></th>\n",
       "      <th>Length</th>\n",
       "      <th>Diameter</th>\n",
       "      <th>Height</th>\n",
       "      <th>weight_1</th>\n",
       "      <th>weight_2</th>\n",
       "      <th>weight_3</th>\n",
       "      <th>weight_4</th>\n",
       "      <th>target</th>\n",
       "    </tr>\n",
       "  </thead>\n",
       "  <tbody>\n",
       "    <tr>\n",
       "      <th>count</th>\n",
       "      <td>3136.000000</td>\n",
       "      <td>3136.000000</td>\n",
       "      <td>3136.000000</td>\n",
       "      <td>3136.000000</td>\n",
       "      <td>3136.000000</td>\n",
       "      <td>3136.000000</td>\n",
       "      <td>3136.000000</td>\n",
       "      <td>3136.000000</td>\n",
       "    </tr>\n",
       "    <tr>\n",
       "      <th>mean</th>\n",
       "      <td>0.524141</td>\n",
       "      <td>0.407868</td>\n",
       "      <td>0.139115</td>\n",
       "      <td>0.829300</td>\n",
       "      <td>0.359130</td>\n",
       "      <td>0.180738</td>\n",
       "      <td>0.239251</td>\n",
       "      <td>9.948023</td>\n",
       "    </tr>\n",
       "    <tr>\n",
       "      <th>std</th>\n",
       "      <td>0.120807</td>\n",
       "      <td>0.099984</td>\n",
       "      <td>0.039111</td>\n",
       "      <td>0.492789</td>\n",
       "      <td>0.222860</td>\n",
       "      <td>0.110205</td>\n",
       "      <td>0.139756</td>\n",
       "      <td>3.290532</td>\n",
       "    </tr>\n",
       "    <tr>\n",
       "      <th>min</th>\n",
       "      <td>0.075000</td>\n",
       "      <td>0.055000</td>\n",
       "      <td>0.000000</td>\n",
       "      <td>0.002000</td>\n",
       "      <td>0.001000</td>\n",
       "      <td>0.000500</td>\n",
       "      <td>0.001500</td>\n",
       "      <td>1.000000</td>\n",
       "    </tr>\n",
       "    <tr>\n",
       "      <th>25%</th>\n",
       "      <td>0.450000</td>\n",
       "      <td>0.348750</td>\n",
       "      <td>0.115000</td>\n",
       "      <td>0.440500</td>\n",
       "      <td>0.184375</td>\n",
       "      <td>0.092875</td>\n",
       "      <td>0.130000</td>\n",
       "      <td>8.000000</td>\n",
       "    </tr>\n",
       "    <tr>\n",
       "      <th>50%</th>\n",
       "      <td>0.545000</td>\n",
       "      <td>0.425000</td>\n",
       "      <td>0.140000</td>\n",
       "      <td>0.801000</td>\n",
       "      <td>0.336000</td>\n",
       "      <td>0.171000</td>\n",
       "      <td>0.234500</td>\n",
       "      <td>9.000000</td>\n",
       "    </tr>\n",
       "    <tr>\n",
       "      <th>75%</th>\n",
       "      <td>0.615000</td>\n",
       "      <td>0.480000</td>\n",
       "      <td>0.165000</td>\n",
       "      <td>1.156500</td>\n",
       "      <td>0.503625</td>\n",
       "      <td>0.254000</td>\n",
       "      <td>0.330000</td>\n",
       "      <td>11.000000</td>\n",
       "    </tr>\n",
       "    <tr>\n",
       "      <th>max</th>\n",
       "      <td>0.815000</td>\n",
       "      <td>0.650000</td>\n",
       "      <td>0.515000</td>\n",
       "      <td>2.825500</td>\n",
       "      <td>1.488000</td>\n",
       "      <td>0.760000</td>\n",
       "      <td>0.897000</td>\n",
       "      <td>29.000000</td>\n",
       "    </tr>\n",
       "  </tbody>\n",
       "</table>\n",
       "</div>"
      ],
      "text/plain": [
       "            Length     Diameter       Height     weight_1     weight_2  \\\n",
       "count  3136.000000  3136.000000  3136.000000  3136.000000  3136.000000   \n",
       "mean      0.524141     0.407868     0.139115     0.829300     0.359130   \n",
       "std       0.120807     0.099984     0.039111     0.492789     0.222860   \n",
       "min       0.075000     0.055000     0.000000     0.002000     0.001000   \n",
       "25%       0.450000     0.348750     0.115000     0.440500     0.184375   \n",
       "50%       0.545000     0.425000     0.140000     0.801000     0.336000   \n",
       "75%       0.615000     0.480000     0.165000     1.156500     0.503625   \n",
       "max       0.815000     0.650000     0.515000     2.825500     1.488000   \n",
       "\n",
       "          weight_3     weight_4       target  \n",
       "count  3136.000000  3136.000000  3136.000000  \n",
       "mean      0.180738     0.239251     9.948023  \n",
       "std       0.110205     0.139756     3.290532  \n",
       "min       0.000500     0.001500     1.000000  \n",
       "25%       0.092875     0.130000     8.000000  \n",
       "50%       0.171000     0.234500     9.000000  \n",
       "75%       0.254000     0.330000    11.000000  \n",
       "max       0.760000     0.897000    29.000000  "
      ]
     },
     "execution_count": 2799,
     "metadata": {},
     "output_type": "execute_result"
    }
   ],
   "source": [
    "df.describe()"
   ]
  },
  {
   "cell_type": "code",
   "execution_count": 2800,
   "id": "c7c650fd",
   "metadata": {},
   "outputs": [
    {
     "name": "stdout",
     "output_type": "stream",
     "text": [
      "<class 'pandas.core.frame.DataFrame'>\n",
      "RangeIndex: 3136 entries, 0 to 3135\n",
      "Data columns (total 9 columns):\n",
      " #   Column    Non-Null Count  Dtype  \n",
      "---  ------    --------------  -----  \n",
      " 0   Sex       3136 non-null   object \n",
      " 1   Length    3136 non-null   float64\n",
      " 2   Diameter  3136 non-null   float64\n",
      " 3   Height    3136 non-null   float64\n",
      " 4   weight_1  3136 non-null   float64\n",
      " 5   weight_2  3136 non-null   float64\n",
      " 6   weight_3  3136 non-null   float64\n",
      " 7   weight_4  3136 non-null   float64\n",
      " 8   target    3136 non-null   int64  \n",
      "dtypes: float64(7), int64(1), object(1)\n",
      "memory usage: 220.6+ KB\n"
     ]
    }
   ],
   "source": [
    "df.info()"
   ]
  },
  {
   "cell_type": "code",
   "execution_count": 2801,
   "id": "e7af686c",
   "metadata": {},
   "outputs": [],
   "source": [
    "if USE_PAIRPLOTS:\n",
    "    sns.set()\n",
    "    sns.pairplot(df[['Length', 'Height', 'Diameter', 'weight_1', 'weight_2', 'weight_3', 'weight_4']], diag_kind=\"kde\")"
   ]
  },
  {
   "cell_type": "code",
   "execution_count": 2802,
   "id": "40388a68",
   "metadata": {},
   "outputs": [
    {
     "data": {
      "image/png": "[encoded data removed]",
      "text/plain": [
       "<Figure size 640x480 with 1 Axes>"
      ]
     },
     "metadata": {},
     "output_type": "display_data"
    }
   ],
   "source": [
    "if USE_BARPLOTS:\n",
    "    sns.barplot(x=df['target'], y=df['Sex']);"
   ]
  },
  {
   "cell_type": "code",
   "execution_count": 2803,
   "id": "11ff999a",
   "metadata": {},
   "outputs": [
    {
     "data": {
      "image/png": "[encoded data removed]",
      "text/plain": [
       "<Figure size 640x480 with 1 Axes>"
      ]
     },
     "metadata": {},
     "output_type": "display_data"
    }
   ],
   "source": [
    "if USE_BARPLOTS:\n",
    "    sns.barplot(x=df['target'], y=df['weight_1']);"
   ]
  },
  {
   "cell_type": "markdown",
   "id": "92bf4cbb",
   "metadata": {},
   "source": [
    "## Data control unit"
   ]
  },
  {
   "cell_type": "code",
   "execution_count": 2804,
   "id": "e785a79a",
   "metadata": {},
   "outputs": [],
   "source": [
    "USE_FEATURE_EXTRACTION = True\n",
    "USE_FEATURE_SCALING = True\n",
    "USE_OUTLIER_DETECTION = True"
   ]
  },
  {
   "cell_type": "markdown",
   "id": "a00cf77a",
   "metadata": {},
   "source": [
    "### Data preprocessing"
   ]
  },
  {
   "cell_type": "code",
   "execution_count": 2805,
   "id": "a48c9493",
   "metadata": {},
   "outputs": [],
   "source": [
    "df = pd.get_dummies(df, columns=[\"Sex\"])"
   ]
  },
  {
   "cell_type": "markdown",
   "id": "999a8f12",
   "metadata": {},
   "source": [
    "### Feature extraction"
   ]
  },
  {
   "cell_type": "code",
   "execution_count": 2806,
   "id": "3361ab2a",
   "metadata": {},
   "outputs": [],
   "source": [
    "if USE_FEATURE_EXTRACTION:\n",
    "    df['Volume'] = df['Length'] * df['Diameter'] * df['Height']\n",
    "    df.drop(['Length', 'Diameter', 'Height'], axis=1, inplace=True)\n",
    "    df['Weight'] = df['weight_1'] * df['weight_2'] * df['weight_3'] * df['weight_4']\n",
    "    df.drop(['weight_1', 'weight_2', 'weight_3', 'weight_4'], axis=1, inplace=True)"
   ]
  },
  {
   "cell_type": "markdown",
   "id": "c50c198c",
   "metadata": {},
   "source": [
    "### Data normalisation and filtration"
   ]
  },
  {
   "cell_type": "code",
   "execution_count": 2807,
   "id": "427bb0f9",
   "metadata": {},
   "outputs": [],
   "source": [
    "if USE_FEATURE_SCALING:\n",
    "    from sklearn.preprocessing import StandardScaler\n",
    "    scaler = StandardScaler()\n",
    "    if USE_FEATURE_EXTRACTION:\n",
    "        scaling_columns = [\"Volume\", \"Weight\"]\n",
    "    else:\n",
    "        scaling_columns = ['Length', 'Diameter', 'Height', 'weight_1', 'weight_2', 'weight_3', 'weight_4']\n",
    "    df[scaling_columns] = scaler.fit_transform(df[scaling_columns])\n",
    "\n",
    "if USE_OUTLIER_DETECTION:\n",
    "    df = df[(np.abs(stats.zscore(df)) < 3).all(axis=1)]"
   ]
  },
  {
   "cell_type": "markdown",
   "id": "ebfb4a80",
   "metadata": {},
   "source": [
    "### Data visualisation after pipeline"
   ]
  },
  {
   "cell_type": "code",
   "execution_count": 2808,
   "id": "87e20ff5",
   "metadata": {
    "scrolled": true
   },
   "outputs": [],
   "source": [
    "if USE_PAIRPLOTS:\n",
    "    sns.set()\n",
    "    if USE_FEATURE_EXTRACTION:\n",
    "        sns.pairplot(df[['Weight', 'Volume']], diag_kind=\"kde\")\n",
    "    else:\n",
    "        sns.pairplot(df[['Length', 'Diameter', 'Height', 'weight_1', 'weight_2', 'weight_3', 'weight_4']], diag_kind=\"kde\")"
   ]
  },
  {
   "cell_type": "code",
   "execution_count": 2809,
   "id": "01f08c4b",
   "metadata": {},
   "outputs": [
    {
     "data": {
      "image/png": "[encoded data removed]",
      "text/plain": [
       "<Figure size 640x480 with 1 Axes>"
      ]
     },
     "metadata": {},
     "output_type": "display_data"
    }
   ],
   "source": [
    "if USE_BARPLOTS:\n",
    "    if USE_FEATURE_EXTRACTION:\n",
    "        sns.barplot(x=df['target'], y=df['Volume']);"
   ]
  },
  {
   "cell_type": "code",
   "execution_count": 2810,
   "id": "0f4dd17b",
   "metadata": {},
   "outputs": [
    {
     "data": {
      "image/png": "[encoded data removed]",
      "text/plain": [
       "<Figure size 640x480 with 1 Axes>"
      ]
     },
     "metadata": {},
     "output_type": "display_data"
    }
   ],
   "source": [
    "if USE_BARPLOTS:\n",
    "    if USE_FEATURE_EXTRACTION:\n",
    "        sns.barplot(x=df['target'], y=df['Weight']);"
   ]
  },
  {
   "cell_type": "markdown",
   "id": "0c8375e3",
   "metadata": {},
   "source": [
    "### Building model"
   ]
  },
  {
   "cell_type": "code",
   "execution_count": 2811,
   "id": "13307340",
   "metadata": {
    "scrolled": true
   },
   "outputs": [
    {
     "name": "stdout",
     "output_type": "stream",
     "text": [
      "----------------------------------------\n",
      "Analysing GaussianNB\n",
      "Average RMSE: 3.448788757277862\n",
      "Average accuracy: 16.523652365236526%\n",
      "----------------------------------------\n",
      "Analysing KNeighborsClassifier\n",
      "Average RMSE: 2.5763125261128166\n",
      "Average accuracy: 25.863586358635864%\n",
      "----------------------------------------\n",
      "Analysing SVC\n",
      "Average RMSE: 2.7490538803676543\n",
      "Average accuracy: 19.40594059405941%\n",
      "----------------------------------------\n",
      "Analysing SVC\n",
      "Average RMSE: 2.7773340820028802\n",
      "Average accuracy: 19.262926292629263%\n",
      "----------------------------------------\n",
      "Analysing LogisticRegression\n",
      "Average RMSE: 2.7161342516768476\n",
      "Average accuracy: 21.14411441144114%\n",
      "----------------------------------------\n",
      "Analysing DecisionTreeClassifier\n",
      "Average RMSE: 3.144027969801841\n",
      "Average accuracy: 17.700770077007704%\n",
      "----------------------------------------\n",
      "Minimum RMSE: 2.5763125261128166%\n",
      "Maximum accuracy: 25.863586358635864%\n"
     ]
    }
   ],
   "source": [
    "from sklearn.linear_model import LogisticRegression\n",
    "from sklearn.svm import SVC\n",
    "from sklearn.tree import DecisionTreeClassifier\n",
    "from sklearn.multiclass import OutputCodeClassifier\n",
    "from sklearn.multioutput import MultiOutputClassifier\n",
    "from sklearn.ensemble import RandomForestClassifier\n",
    "from sklearn.metrics import mean_squared_error\n",
    "from sklearn.model_selection import train_test_split\n",
    "from sklearn.neighbors import KNeighborsClassifier\n",
    "from sklearn.naive_bayes import GaussianNB\n",
    "\n",
    "models = [\n",
    "#     MultiOutputClassifier(RandomForestClassifier(random_state=1), n_jobs=2),\n",
    "#     OutputCodeClassifier(SVC(kernel='linear')), \n",
    "    GaussianNB(),\n",
    "    KNeighborsClassifier(n_neighbors=50),\n",
    "    SVC(kernel='poly'), \n",
    "    SVC(kernel='linear'), \n",
    "    LogisticRegression(max_iter=200), \n",
    "    DecisionTreeClassifier()\n",
    "]\n",
    "\n",
    "verbose = False\n",
    "experiments = 15\n",
    "avg_accuracies = []\n",
    "avg_rmses      = []\n",
    "\n",
    "for model in models:\n",
    "    print(\"-\"*40)\n",
    "    print(f\"Analysing {type(model).__name__}\")\n",
    "    \n",
    "    avg_rmse = 0\n",
    "    avg_accuracy = 0\n",
    "    \n",
    "    for experiment in range(experiments):        \n",
    "        train_df, test_df = train_test_split(df, test_size=0.2, random_state=round(random.random() * 100))\n",
    "        y_train, X_train = train_df['target'], train_df.drop('target', axis=1)\n",
    "        y_test, X_test = test_df['target'], test_df.drop('target', axis=1)\n",
    "\n",
    "        model.fit(X_train, y_train)\n",
    "        y_pred = model.predict(X_test)\n",
    "\n",
    "        rmse = mean_squared_error(y_test, y_pred, squared=False)\n",
    "        avg_rmse += rmse\n",
    "        if verbose:\n",
    "            print(f\"RMSE in experiment {experiment + 1}: {rmse}\")\n",
    "\n",
    "        accuracy = model.score(X_test, y_test)\n",
    "        avg_accuracy += accuracy\n",
    "        if verbose:\n",
    "            print(f\"Accuracy in experiment {experiment + 1}: {accuracy * 100}%\")\n",
    "\n",
    "    avg_rmse /= experiments\n",
    "    avg_rmses.append(avg_rmse)\n",
    "    print(f\"Average RMSE: {avg_rmse}\")\n",
    "    \n",
    "    avg_accuracy /= experiments\n",
    "    avg_accuracies.append(avg_accuracy)\n",
    "    print(f\"Average accuracy: {avg_accuracy * 100}%\")\n",
    "    \n",
    "best_model = None \n",
    "best_rmse, best_accuracy = +math.inf, -math.inf\n",
    "\n",
    "for model, avg_rmse, avg_accuracy in zip(models, avg_rmses, avg_accuracies):\n",
    "    # if best_rmse > avg_rmse and best_accuracy < avg_accuracy:\n",
    "    # if best_accuracy < avg_accuracy:\n",
    "    if best_rmse > avg_rmse:\n",
    "        best_rmse = avg_rmse\n",
    "        best_accuracy = avg_accuracy\n",
    "        best_model = model\n",
    "        \n",
    "print(\"-\"*40)\n",
    "print(f\"Minimum RMSE: {best_rmse}%\")\n",
    "print(f\"Maximum accuracy: {best_accuracy * 100}%\")"
   ]
  },
  {
   "cell_type": "code",
   "execution_count": 2812,
   "id": "800475c3",
   "metadata": {},
   "outputs": [],
   "source": [
    "from sklearn import metrics\n",
    "\n",
    "cnf_matrix = metrics.confusion_matrix(y_test, y_pred)\n",
    "class_names = df[\"target\"].unique() # name of classes"
   ]
  },
  {
   "cell_type": "code",
   "execution_count": 2813,
   "id": "4760feaf",
   "metadata": {},
   "outputs": [
    {
     "data": {
      "text/plain": [
       "Text(0.5, 427.9555555555555, 'Predicted label')"
      ]
     },
     "execution_count": 2813,
     "metadata": {},
     "output_type": "execute_result"
    },
    {
     "data": {
      "image/png": "[encoded data removed]",
      "text/plain": [
       "<Figure size 640x480 with 2 Axes>"
      ]
     },
     "metadata": {},
     "output_type": "display_data"
    }
   ],
   "source": [
    "# configure heatmap\n",
    "fig, ax = plt.subplots()\n",
    "tick_marks = np.arange(len(class_names))\n",
    "plt.xticks(tick_marks, class_names)\n",
    "plt.yticks(tick_marks, class_names)\n",
    "\n",
    "# create heatmap\n",
    "sns.heatmap(pd.DataFrame(cnf_matrix), annot=True, cmap=\"YlGnBu\" ,fmt='g')\n",
    "ax.xaxis.set_label_position(\"top\")\n",
    "plt.tight_layout()\n",
    "plt.title('Confusion matrix', y=1.1)\n",
    "plt.ylabel('Actual label')\n",
    "plt.xlabel('Predicted label')"
   ]
  },
  {
   "cell_type": "code",
   "execution_count": 2814,
   "id": "c6be6390",
   "metadata": {},
   "outputs": [
    {
     "name": "stdout",
     "output_type": "stream",
     "text": [
      "              precision    recall  f1-score   support\n",
      "\n",
      "           3       0.00      0.00      0.00         2\n",
      "           4       0.43      0.30      0.35        10\n",
      "           5       0.29      0.24      0.26        17\n",
      "           6       0.21      0.32      0.25        28\n",
      "           7       0.30      0.24      0.27        59\n",
      "           8       0.19      0.16      0.18        93\n",
      "           9       0.21      0.18      0.19       123\n",
      "          10       0.20      0.25      0.22        85\n",
      "          11       0.26      0.24      0.25        72\n",
      "          12       0.16      0.23      0.19        31\n",
      "          13       0.05      0.10      0.07        20\n",
      "          14       0.11      0.11      0.11        19\n",
      "          15       0.07      0.06      0.06        18\n",
      "          16       0.12      0.11      0.12         9\n",
      "          17       0.00      0.00      0.00         7\n",
      "          18       0.00      0.00      0.00         8\n",
      "          19       0.20      0.20      0.20         5\n",
      "\n",
      "    accuracy                           0.20       606\n",
      "   macro avg       0.17      0.16      0.16       606\n",
      "weighted avg       0.20      0.20      0.20       606\n",
      "\n"
     ]
    }
   ],
   "source": [
    "from sklearn.metrics import classification_report\n",
    "print(classification_report(y_test, y_pred))"
   ]
  },
  {
   "cell_type": "markdown",
   "id": "73ef663d",
   "metadata": {},
   "source": [
    "### Trying model with test data"
   ]
  },
  {
   "cell_type": "code",
   "execution_count": 2815,
   "id": "69f2156a",
   "metadata": {},
   "outputs": [],
   "source": [
    "df = pd.read_csv(TEST_PATH)"
   ]
  },
  {
   "cell_type": "code",
   "execution_count": 2816,
   "id": "e0b4a9b3",
   "metadata": {},
   "outputs": [],
   "source": [
    "df = pd.get_dummies(df, columns=[\"Sex\"])"
   ]
  },
  {
   "cell_type": "code",
   "execution_count": 2817,
   "id": "4aeb6bee",
   "metadata": {},
   "outputs": [],
   "source": [
    "if USE_FEATURE_EXTRACTION:\n",
    "    df['Volume'] = df['Length'] * df['Diameter'] * df['Height']\n",
    "    df.drop(['Length', 'Diameter', 'Height'], axis=1, inplace=True)\n",
    "    df['Weight'] = df['weight_1'] * df['weight_2'] * df['weight_3'] * df['weight_4']\n",
    "    df.drop(['weight_1', 'weight_2', 'weight_3', 'weight_4'], axis=1, inplace=True)"
   ]
  },
  {
   "cell_type": "code",
   "execution_count": 2818,
   "id": "b85c5fa1",
   "metadata": {},
   "outputs": [],
   "source": [
    "if USE_FEATURE_SCALING:\n",
    "    from sklearn.preprocessing import StandardScaler\n",
    "    scaler = StandardScaler()\n",
    "    if USE_FEATURE_EXTRACTION:\n",
    "        scaling_columns = [\"Volume\", \"Weight\"]\n",
    "    else:\n",
    "        scaling_columns = ['Length', 'Diameter', 'Height', 'weight_1', 'weight_2', 'weight_3', 'weight_4']\n",
    "    df[scaling_columns] = scaler.fit_transform(df[scaling_columns])\n",
    "    X_output = scaler.fit_transform(df)\n",
    "else:\n",
    "    X_output = df"
   ]
  },
  {
   "cell_type": "code",
   "execution_count": 2819,
   "id": "370eca5b",
   "metadata": {},
   "outputs": [],
   "source": [
    "y_output = best_model.predict(X_output)"
   ]
  },
  {
   "cell_type": "markdown",
   "id": "1a7eec84",
   "metadata": {},
   "source": [
    "### Publishing test output to sample submission file"
   ]
  },
  {
   "cell_type": "code",
   "execution_count": 2820,
   "id": "7bfdf2f4",
   "metadata": {},
   "outputs": [],
   "source": [
    "df = pd.read_csv(SUBMISSION_PATH)\n",
    "df['target'] = y_output"
   ]
  },
  {
   "cell_type": "code",
   "execution_count": 2821,
   "id": "f200ca29",
   "metadata": {},
   "outputs": [],
   "source": [
    "df.to_csv(SUBMISSION_PATH)"
   ]
  }
 ],
 "metadata": {
  "kernelspec": {
   "display_name": "Python 3 (ipykernel)",
   "language": "python",
   "name": "python3"
  },
  "language_info": {
   "codemirror_mode": {
    "name": "ipython",
    "version": 3
   },
   "file_extension": ".py",
   "mimetype": "text/x-python",
   "name": "python",
   "nbconvert_exporter": "python",
   "pygments_lexer": "ipython3",
   "version": "3.9.15"
  }
 },
 "nbformat": 4,
 "nbformat_minor": 5
}
